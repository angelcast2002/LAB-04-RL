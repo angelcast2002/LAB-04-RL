{
 "cells": [
  {
   "cell_type": "markdown",
   "id": "d80baa53",
   "metadata": {},
   "source": [
    "# Task 1"
   ]
  },
  {
   "cell_type": "markdown",
   "id": "7526f652",
   "metadata": {},
   "source": [
    "1. ¿Cómo afecta la elección de la estrategia de exploración (exploring starts vs soft policy) a la precisión de la evaluación de políticas en los métodos de Monte Carlo?\n",
    "- Considere la posibilidad de comparar el desempeño de las políticas evaluadas con y sin explorar los inicios o con diferentes niveles de exploración en políticas blandas.\n",
    "\n",
    "La elección entre exploring starts y soft policy influye significativamente en la precisión de la evaluación de políticas en los métodos de Monte Carlo. Exploring starts garantiza que todos los estados y acciones sean explorados al menos una vez, lo que permite una cobertura más completa del espacio de decisiones. Esto resulta en estimaciones más precisas del valor de las políticas, especialmente en entornos donde ciertas acciones podrían no ser seleccionadas naturalmente bajo una política determinada. Sin embargo, este enfoque puede ser poco práctico en escenarios reales, ya que requiere control total sobre el estado inicial y la acción inicial, lo cual no siempre es factible.\n",
    "\n",
    "Por otro lado, las soft policies, como las estrategias ε-greedy, introducen aleatoriedad en la selección de acciones, permitiendo que se exploren acciones subóptimas con cierta probabilidad. Esto mejora la cobertura del espacio de estados y acciones sin necesidad de manipular directamente los inicios, lo que las hace más aplicables en entornos reales. No obstante, el nivel de exploración debe ser cuidadosamente ajustado: una política demasiado blanda puede ralentizar la convergencia al introducir ruido excesivo, mientras que una política demasiado rígida puede limitar la exploración y sesgar la evaluación. En resumen, ambas estrategias buscan mejorar la precisión de la evaluación, pero lo hacen con diferentes compromisos entre control, aplicabilidad y eficiencia"
   ]
  },
  {
   "cell_type": "markdown",
   "id": "57a1f58a",
   "metadata": {},
   "source": [
    "2. En el contexto del aprendizaje de Monte Carlo fuera de la póliza, ¿cómo afecta la razón de muestreo de importancia a la convergencia de la evaluación de políticas? Explore cómo la razón de muestreo de importancia afecta la estabilidad y la convergencia.\n",
    "\n",
    "En el aprendizaje de Monte Carlo off-policy, la razón de muestreo de importancia ajusta las estimaciones de valor para compensar la diferencia entre la política de comportamiento y la política objetivo, permitiendo evaluar esta última con datos generados por la primera. Aunque es fundamental para la validez del enfoque off-policy, su uso puede introducir alta varianza cuando las políticas difieren significativamente, lo que afecta negativamente la estabilidad y la convergencia del aprendizaje. Para contrarrestar esto, se emplean técnicas como el muestreo de importancia ponderado, que reduce la varianza a costa de introducir sesgo, mejorando la estabilidad general. En conjunto, el impacto de la razón de muestreo depende de la proximidad entre las políticas y del método de ajuste utilizado, siendo clave para lograr una evaluación precisa y eficiente\n"
   ]
  },
  {
   "cell_type": "markdown",
   "id": "f080d3d5",
   "metadata": {},
   "source": [
    "3. ¿Cómo puede el uso de una soft policy influir en la eficacia del aprendizaje de políticas óptimas en comparación con las políticas deterministas en los métodos de Monte Carlo? Compare el desempeño y los resultados de aprendizaje de las políticas derivadas de estrategias ε-greedy con las derivadas de políticas deterministas.\n",
    "\n",
    "Las *soft policies*, como *ε-greedy*, mejoran el aprendizaje en Monte Carlo al permitir exploración continua, evitando que el agente se estanque en decisiones subóptimas. A diferencia de las políticas deterministas, fomentan la búsqueda de mejores acciones a largo plazo, lo que puede acelerar la convergencia hacia una política óptima. Sin embargo, si la exploración es excesiva, puede introducir ruido y ralentizar el proceso.\n"
   ]
  },
  {
   "cell_type": "markdown",
   "id": "c790d12e",
   "metadata": {},
   "source": [
    "4. ¿Cuáles son los posibles beneficios y desventajas de utilizar métodos de Monte Carlo off-policy en comparación con los on-policy en términos de eficiencia de la muestra, costo computacional, y velocidad de aprendizaje?\n",
    "\n",
    "\n",
    "Los métodos de Monte Carlo *off-policy* ofrecen mayor flexibilidad al permitir el uso de datos generados por distintas políticas, lo que mejora la eficiencia de muestra y facilita el reaprovechamiento de experiencias. Sin embargo, esto puede aumentar la varianza y requerir técnicas como el muestreo de importancia, elevando el costo computacional y afectando la estabilidad. En contraste, los métodos *on-policy* suelen ser más estables y directos, pero requieren generar nuevas muestras para cada evaluación, lo que puede ser más lento y menos eficiente en entornos complejos.\n"
   ]
  },
  {
   "cell_type": "markdown",
   "id": "e40cf06f",
   "metadata": {},
   "source": [
    "# Task 2\n",
    "En este ejercicio, simulará un sistema de gestión de inventarios para una pequeña tienda minorista. La tienda tiene\n",
    "como objetivo maximizar las ganancias manteniendo niveles óptimos de existencias de diferentes productos.\n",
    "Utilizará métodos de Monte Carlo para la evaluación de pólizas, exploring starts, soft policies y aprendizaje offpolicy para estimar el valor de diferentes estrategias de gestión de inventarios. Su objetivo es implementar una\n",
    "solución en Python y responder preguntas específicas en función de los resultados.\n",
    "Instrucciones:\n",
    "1. Defina el entorno:\n",
    "\n",
    "    a. Utilice el ambiente dado más adelante para simular el entorno de la tienda. Considere que:\n",
    "\n",
    "        i. El estado representa los niveles de existencias actuales de los productos.\n",
    "\n",
    "        ii. Las acciones representan decisiones sobre cuánto reponer de cada producto.\n",
    "\n",
    "2. Generar episodios:\n",
    "\n",
    "    a. Cada episodio representa una serie de días en los que la tienda sigue una política de inventario\n",
    "    específica.\n",
    "\n",
    "    b. Debe recopilar datos para varios episodios y registrar las recompensas (ganancias) de cada día.\n",
    "3. Exploring Starts:\n",
    "\n",
    "    a. Implemente explorar inicios para garantizar un conjunto diverso de estados y acciones iniciales.\n",
    "4. Soft Policies:\n",
    "\n",
    "    a. Utilice una soft policy (como epsilon-greedy) para garantizar un equilibrio entre la exploración y la\n",
    "    explotación.\n",
    "\n",
    "5. Aprendizaje off-policy:\n",
    "\n",
    "    a. Implemente el aprendizaje off-policy para evaluar una política objetivo utilizando datos generados\n",
    "    por una política de comportamiento diferente.\n"
   ]
  },
  {
   "cell_type": "code",
   "execution_count": 1,
   "id": "32fee898",
   "metadata": {},
   "outputs": [],
   "source": [
    "import numpy as np\n",
    "import random\n",
    "from collections import defaultdict\n",
    "import matplotlib.pyplot as plt"
   ]
  },
  {
   "cell_type": "code",
   "execution_count": 2,
   "id": "07c29775",
   "metadata": {},
   "outputs": [],
   "source": [
    "class InventoryEnvironment:\n",
    "    def __init__(self, max_stock=10):\n",
    "        self.products = ['product_A', 'product_B']\n",
    "        self.max_stock = max_stock\n",
    "        self.demand = {'product_A': [0, 1, 2], 'product_B': [0, 1, 2]}\n",
    "        self.restock_cost = {'product_A': 5, 'product_B': 7}\n",
    "        self.sell_price = {'product_A': 10, 'product_B': 15}\n",
    "        self.state = None\n",
    "\n",
    "    def reset(self, forced_start=None):\n",
    "        if forced_start is not None:\n",
    "            self.state = forced_start.copy()\n",
    "        else:\n",
    "            self.state = {product: random.randint(0, self.max_stock) for product in self.products}\n",
    "        return self.state.copy()\n",
    "\n",
    "    def step(self, action):\n",
    "        reward = 0\n",
    "        for product in self.products:\n",
    "            stock = self.state[product]\n",
    "            restock = action[product]\n",
    "            self.state[product] = min(self.max_stock, stock + restock)\n",
    "            demand = random.choice(self.demand[product])\n",
    "            sales = min(demand, self.state[product])\n",
    "            self.state[product] -= sales\n",
    "            reward += sales * self.sell_price[product] - restock * self.restock_cost[product]\n",
    "        return self.state.copy(), reward\n"
   ]
  },
  {
   "cell_type": "code",
   "execution_count": 3,
   "id": "00ecbe26",
   "metadata": {},
   "outputs": [],
   "source": [
    "def state_action_to_key(state, action):\n",
    "    s = tuple(state[p] for p in sorted(state.keys()))\n",
    "    a = tuple(action[p] for p in sorted(action.keys()))\n",
    "    return (s, a)\n",
    "\n",
    "def random_action(max_restock=3, products=None):\n",
    "    return {p: random.randint(0, max_restock) for p in products}\n"
   ]
  },
  {
   "cell_type": "code",
   "execution_count": 4,
   "id": "0ca5bd3a",
   "metadata": {},
   "outputs": [],
   "source": [
    "def epsilon_greedy_action(state, Q, epsilon, max_restock=3):\n",
    "    action = {}\n",
    "    for product in state:\n",
    "        if random.random() < epsilon:\n",
    "            action[product] = random.randint(0, max_restock)\n",
    "        else:\n",
    "            best_val = -float('inf')\n",
    "            best_r = 0\n",
    "            for r in range(max_restock + 1):\n",
    "                candidate_action = {p: 0 for p in state}\n",
    "                candidate_action[product] = r\n",
    "                key = state_action_to_key(state, candidate_action)\n",
    "                val = Q.get(key, 0)\n",
    "                if val > best_val:\n",
    "                    best_val = val\n",
    "                    best_r = r\n",
    "            action[product] = best_r\n",
    "    return action\n",
    "\n",
    "def target_policy_deterministic(state, max_restock=3):\n",
    "    return {product: 1 for product in state}  # ejemplo fijo\n"
   ]
  },
  {
   "cell_type": "code",
   "execution_count": 5,
   "id": "a5127fb9",
   "metadata": {},
   "outputs": [],
   "source": [
    "def monte_carlo_on_policy(env, num_episodes=5000, epsilon=0.1, gamma=1.0, max_restock=3):\n",
    "    Q = defaultdict(float)\n",
    "    returns_sum = defaultdict(float)\n",
    "    returns_count = defaultdict(float)\n",
    "\n",
    "    for _ in range(num_episodes):\n",
    "        # exploring starts\n",
    "        start_state = {p: random.randint(0, env.max_stock) for p in env.products}\n",
    "        start_action = random_action(max_restock=max_restock, products=env.products)\n",
    "        state = env.reset(forced_start=start_state)\n",
    "        episode = []\n",
    "\n",
    "        next_state, reward = env.step(start_action)\n",
    "        episode.append((state.copy(), start_action.copy(), reward))\n",
    "        state = next_state\n",
    "\n",
    "        # largo fijo de episodio\n",
    "        for _ in range(1, 10):\n",
    "            action = epsilon_greedy_action(state, Q, epsilon, max_restock=max_restock)\n",
    "            next_state, reward = env.step(action)\n",
    "            episode.append((state.copy(), action.copy(), reward))\n",
    "            state = next_state\n",
    "\n",
    "        G = 0\n",
    "        for s_t, a_t, r_t in reversed(episode):\n",
    "            G = gamma * G + r_t\n",
    "            key = state_action_to_key(s_t, a_t)\n",
    "            returns_sum[key] += G\n",
    "            returns_count[key] += 1\n",
    "            Q[key] = returns_sum[key] / returns_count[key]\n",
    "    return Q\n"
   ]
  },
  {
   "cell_type": "code",
   "execution_count": 6,
   "id": "a277e38b",
   "metadata": {},
   "outputs": [],
   "source": [
    "def monte_carlo_off_policy(env, num_episodes=5000, behavior_epsilon=0.5, gamma=1.0, max_restock=3):\n",
    "    V = defaultdict(float)\n",
    "    C = defaultdict(float)\n",
    "\n",
    "    for _ in range(num_episodes):\n",
    "        state = env.reset()\n",
    "        episode = []\n",
    "        for _ in range(10):\n",
    "            if random.random() < behavior_epsilon:\n",
    "                action = random_action(max_restock=max_restock, products=env.products)\n",
    "            else:\n",
    "                action = target_policy_deterministic(state, max_restock=max_restock)\n",
    "            next_state, reward = env.step(action)\n",
    "            episode.append((state.copy(), action.copy(), reward))\n",
    "            state = next_state\n",
    "\n",
    "        G = 0\n",
    "        W = 1.0\n",
    "        for s_t, a_t, r_t in reversed(episode):\n",
    "            G = gamma * G + r_t\n",
    "            target_a = target_policy_deterministic(s_t, max_restock=max_restock)\n",
    "            if a_t == target_a:\n",
    "                num_actions = (max_restock + 1) ** len(env.products)\n",
    "                prob_b = behavior_epsilon * (1 / num_actions) + (1 - behavior_epsilon) * 1\n",
    "                rho = 1 / prob_b\n",
    "            else:\n",
    "                rho = 0\n",
    "            state_key = tuple(s_t[p] for p in sorted(s_t.keys()))\n",
    "            C[state_key] += W * rho\n",
    "            if C[state_key] != 0:\n",
    "                V[state_key] += (W * rho / C[state_key]) * (G - V[state_key])\n",
    "            W = W * rho\n",
    "            if W == 0:\n",
    "                break\n",
    "    return V\n"
   ]
  },
  {
   "cell_type": "code",
   "execution_count": 7,
   "id": "49eed1f4",
   "metadata": {},
   "outputs": [],
   "source": [
    "def evaluate_epsilon_effect(env, epsilons, num_episodes=2000):\n",
    "    results = {}\n",
    "    for eps in epsilons:\n",
    "        Q = monte_carlo_on_policy(env, num_episodes=num_episodes, epsilon=eps)\n",
    "        total = 0\n",
    "        count = 0\n",
    "        for _ in range(50):\n",
    "            s = {p: random.randint(0, env.max_stock) for p in env.products}\n",
    "            best_action = {}\n",
    "            for product in env.products:\n",
    "                best_val = -float('inf')\n",
    "                best_r = 0\n",
    "                for r in range(4):\n",
    "                    candidate_action = {p: 0 for p in env.products}\n",
    "                    candidate_action[product] = r\n",
    "                    key = state_action_to_key(s, candidate_action)\n",
    "                    val = Q.get(key, 0)\n",
    "                    if val > best_val:\n",
    "                        best_val = val\n",
    "                        best_r = r\n",
    "                best_action[product] = best_r\n",
    "            key = state_action_to_key(s, best_action)\n",
    "            total += Q.get(key, 0)\n",
    "            count += 1\n",
    "        results[eps] = total / count if count else 0\n",
    "    return results\n",
    "\n",
    "def compare_on_off(env):\n",
    "    Q_on = monte_carlo_on_policy(env, num_episodes=3000, epsilon=0.1)\n",
    "    V_off = monte_carlo_off_policy(env, num_episodes=3000, behavior_epsilon=0.5)\n",
    "    return Q_on, V_off\n"
   ]
  },
  {
   "cell_type": "code",
   "execution_count": null,
   "id": "a10dd3fd",
   "metadata": {},
   "outputs": [
    {
     "name": "stdout",
     "output_type": "stream",
     "text": [
      "Efecto de epsilon: {0.0: 72.9469848045913, 0.05: 61.3348851218538, 0.1: 58.821564517388325, 0.2: 60.93609310981954}\n",
      "Estado de ejemplo: {'product_A': 5, 'product_B': 5}\n",
      "Mejor acción on-policy: {'product_A': 2, 'product_B': 3}\n",
      "Valor Q on-policy: 30.166666666666668\n",
      "Valor V off-policy: 32.10586818744804\n"
     ]
    },
    {
     "data": {
      "image/png": "[encoded data removed]",
      "text/plain": [
       "<Figure size 640x480 with 1 Axes>"
      ]
     },
     "metadata": {},
     "output_type": "display_data"
    }
   ],
   "source": [
    "env = InventoryEnvironment()\n",
    "\n",
    "epsilons = [0.0, 0.05, 0.1, 0.2]\n",
    "eps_effect = evaluate_epsilon_effect(env, epsilons)\n",
    "print(\"Efecto de epsilon:\", eps_effect)\n",
    "\n",
    "Q_on, V_off = compare_on_off(env)\n",
    "sample_state = {'product_A': 5, 'product_B': 5}\n",
    "best_action = {}\n",
    "for product in env.products:\n",
    "    best_val = -float('inf')\n",
    "    best_r = 0\n",
    "    for r in range(4):\n",
    "        candidate_action = {p: 0 for p in env.products}\n",
    "        candidate_action[product] = r\n",
    "        key = state_action_to_key(sample_state, candidate_action)\n",
    "        val = Q_on.get(key, 0)\n",
    "        if val > best_val:\n",
    "            best_val = val\n",
    "            best_r = r\n",
    "    best_action[product] = best_r\n",
    "\n",
    "print(\"Estado de ejemplo:\", sample_state)\n",
    "print(\"Mejor acción on-policy:\", best_action)\n",
    "print(\"Valor Q on-policy:\", Q_on.get(state_action_to_key(sample_state, best_action)))\n",
    "state_key = tuple(sample_state[p] for p in sorted(sample_state.keys()))\n",
    "print(\"Valor V off-policy:\", V_off.get(state_key))\n",
    "\n",
    "plt.figure()\n",
    "plt.plot(list(eps_effect.keys()), list(eps_effect.values()), marker='o')\n",
    "plt.title(\"Efecto de epsilon en el valor estimado promedio\")\n",
    "plt.xlabel(\"Epsilon\")\n",
    "plt.ylabel(\"Valor estimado\")\n",
    "plt.grid(True)\n",
    "plt.show()\n"
   ]
  },
  {
   "cell_type": "markdown",
   "id": "60b954c0",
   "metadata": {},
   "source": [
    "1. ¿Cuál es el valor estimado de mantener diferentes niveles de existencias para cada producto?\n",
    "\n",
    "Del estado de ejemplo (product_A=5, product_B=5), la mejor acción on-policy es reponer 2 de A y 3 de B, con un valor Q estimado de ~30.17, lo que indica que ese nivel de existencias intermedias y esa combinación de reposición maximizan la ganancia esperada bajo la política aprendida; en general, niveles muy bajos exigirían reposiciones mayores para capturar demanda y niveles muy altos tenderían a reducir reabastecimientos por el costo asociado.\n",
    "\n",
    "2. ¿Cómo afecta el valor epsilon en la política blanda al rendimiento?\n",
    "\n",
    "El valor de ε en la política blanda tiene un efecto claro: una política completamente greedy (ε=0.0) produjo el mejor valor promedio (~72.95), mientras que introducir un poco de exploración (ε=0.05–0.1) degradó el rendimiento (~61.33 y ~58.82) y solo con más exploración (ε=0.2) se ve una ligera recuperación (~60.94); en este entorno relativamente pequeño y estable, la exploración excesiva parece penalizar más que ayudar, porque la política determinista ya encuentra buenas acciones rápidamente.\n",
    "\n",
    "3. ¿Cuál es el impacto de utilizar el aprendizaje fuera de la política en comparación con el aprendizaje dentro\n",
    "de la política?\n",
    "\n",
    "Comparando on-policy y off-policy para el mismo estado, el valor off-policy estimado (~32.11) es ligeramente mayor que el on-policy (~30.17), lo que sugiere que, con la política de comportamiento usada, la evaluación fuera de la política pudo aprovechar datos sin ejecutar directamente la política objetivo y sin desalinearse demasiado (evitando razones de importancia extremas), aunque en general off-policy con importance sampling puede incurrir en alta varianza si la política de comportamiento difiere mucho de la objetivo, mientras que on-policy es más estable al evaluar la misma política que genera los datos."
   ]
  }
 ],
 "metadata": {
  "kernelspec": {
   "display_name": "base",
   "language": "python",
   "name": "python3"
  },
  "language_info": {
   "codemirror_mode": {
    "name": "ipython",
    "version": 3
   },
   "file_extension": ".py",
   "mimetype": "text/x-python",
   "name": "python",
   "nbconvert_exporter": "python",
   "pygments_lexer": "ipython3",
   "version": "3.12.7"
  }
 },
 "nbformat": 4,
 "nbformat_minor": 5
}
